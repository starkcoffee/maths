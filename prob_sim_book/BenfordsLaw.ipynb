{
 "cells": [
  {
   "cell_type": "markdown",
   "id": "644b6052",
   "metadata": {},
   "source": [
    "Data from https://data.census.gov/table?q=population+county&tid=PEPPOP2019.PEPANNRES"
   ]
  },
  {
   "cell_type": "code",
   "execution_count": 4,
   "id": "7fda4a3f",
   "metadata": {},
   "outputs": [
    {
     "data": {
      "text/plain": [
       "6"
      ]
     },
     "execution_count": 4,
     "metadata": {},
     "output_type": "execute_result"
    }
   ],
   "source": [
    "using CSV\n",
    "using DataFrames\n",
    "using PyPlot\n",
    "ENV[\"DATAFRAMES_ROWS\"] = 6"
   ]
  },
  {
   "cell_type": "code",
   "execution_count": 5,
   "id": "81b77e38",
   "metadata": {},
   "outputs": [
    {
     "data": {
      "text/html": [
       "<div><div style = \"float: left;\"><span>5×13 DataFrame</span></div><div style = \"clear: both;\"></div></div><div class = \"data-frame\" style = \"overflow-x: scroll;\"><table class = \"data-frame\" style = \"margin-bottom: 6px;\"><thead><tr class = \"header\"><th class = \"rowNumber\" style = \"font-weight: bold; text-align: right;\">Row</th><th style = \"text-align: left;\">Geographic Area Name (Grouping)</th><th style = \"text-align: left;\">4/1/2010 Census population!!Population</th><th style = \"text-align: left;\">4/1/2010 population estimates base!!Population</th><th style = \"text-align: left;\">7/1/2010 population estimate!!Population</th><th style = \"text-align: left;\">7/1/2011 population estimate!!Population</th><th style = \"text-align: left;\">7/1/2012 population estimate!!Population</th><th style = \"text-align: left;\">7/1/2013 population estimate!!Population</th><th style = \"text-align: left;\">7/1/2014 population estimate!!Population</th><th style = \"text-align: left;\">7/1/2015 population estimate!!Population</th><th style = \"text-align: left;\">7/1/2016 population estimate!!Population</th><th style = \"text-align: left;\">7/1/2017 population estimate!!Population</th><th style = \"text-align: left;\">7/1/2018 population estimate!!Population</th><th style = \"text-align: left;\">7/1/2019 population estimate!!Population</th></tr><tr class = \"subheader headerLastRow\"><th class = \"rowNumber\" style = \"font-weight: bold; text-align: right;\"></th><th title = \"String\" style = \"text-align: left;\">String</th><th title = \"String15\" style = \"text-align: left;\">String15</th><th title = \"String15\" style = \"text-align: left;\">String15</th><th title = \"String15\" style = \"text-align: left;\">String15</th><th title = \"String15\" style = \"text-align: left;\">String15</th><th title = \"String15\" style = \"text-align: left;\">String15</th><th title = \"String15\" style = \"text-align: left;\">String15</th><th title = \"String15\" style = \"text-align: left;\">String15</th><th title = \"String15\" style = \"text-align: left;\">String15</th><th title = \"String15\" style = \"text-align: left;\">String15</th><th title = \"String15\" style = \"text-align: left;\">String15</th><th title = \"String15\" style = \"text-align: left;\">String15</th><th title = \"String15\" style = \"text-align: left;\">String15</th></tr></thead><tbody><tr><td class = \"rowNumber\" style = \"font-weight: bold; text-align: right;\">1</td><td style = \"text-align: left;\">Autauga County, Alabama</td><td style = \"text-align: left;\">54,571</td><td style = \"text-align: left;\">54,597</td><td style = \"text-align: left;\">54,773</td><td style = \"text-align: left;\">55,227</td><td style = \"text-align: left;\">54,954</td><td style = \"text-align: left;\">54,727</td><td style = \"text-align: left;\">54,893</td><td style = \"text-align: left;\">54,864</td><td style = \"text-align: left;\">55,243</td><td style = \"text-align: left;\">55,390</td><td style = \"text-align: left;\">55,533</td><td style = \"text-align: left;\">55,869</td></tr><tr><td class = \"rowNumber\" style = \"font-weight: bold; text-align: right;\">2</td><td style = \"text-align: left;\">Baldwin County, Alabama</td><td style = \"text-align: left;\">182,265</td><td style = \"text-align: left;\">182,265</td><td style = \"text-align: left;\">183,112</td><td style = \"text-align: left;\">186,558</td><td style = \"text-align: left;\">190,145</td><td style = \"text-align: left;\">194,885</td><td style = \"text-align: left;\">199,183</td><td style = \"text-align: left;\">202,939</td><td style = \"text-align: left;\">207,601</td><td style = \"text-align: left;\">212,521</td><td style = \"text-align: left;\">217,855</td><td style = \"text-align: left;\">223,234</td></tr><tr><td class = \"rowNumber\" style = \"font-weight: bold; text-align: right;\">3</td><td style = \"text-align: left;\">Barbour County, Alabama</td><td style = \"text-align: left;\">27,457</td><td style = \"text-align: left;\">27,455</td><td style = \"text-align: left;\">27,327</td><td style = \"text-align: left;\">27,341</td><td style = \"text-align: left;\">27,169</td><td style = \"text-align: left;\">26,937</td><td style = \"text-align: left;\">26,755</td><td style = \"text-align: left;\">26,283</td><td style = \"text-align: left;\">25,806</td><td style = \"text-align: left;\">25,157</td><td style = \"text-align: left;\">24,872</td><td style = \"text-align: left;\">24,686</td></tr><tr><td class = \"rowNumber\" style = \"font-weight: bold; text-align: right;\">4</td><td style = \"text-align: left;\">Bibb County, Alabama</td><td style = \"text-align: left;\">22,915</td><td style = \"text-align: left;\">22,915</td><td style = \"text-align: left;\">22,870</td><td style = \"text-align: left;\">22,745</td><td style = \"text-align: left;\">22,667</td><td style = \"text-align: left;\">22,521</td><td style = \"text-align: left;\">22,553</td><td style = \"text-align: left;\">22,566</td><td style = \"text-align: left;\">22,586</td><td style = \"text-align: left;\">22,550</td><td style = \"text-align: left;\">22,367</td><td style = \"text-align: left;\">22,394</td></tr><tr><td class = \"rowNumber\" style = \"font-weight: bold; text-align: right;\">5</td><td style = \"text-align: left;\">Blount County, Alabama</td><td style = \"text-align: left;\">57,322</td><td style = \"text-align: left;\">57,322</td><td style = \"text-align: left;\">57,376</td><td style = \"text-align: left;\">57,560</td><td style = \"text-align: left;\">57,580</td><td style = \"text-align: left;\">57,619</td><td style = \"text-align: left;\">57,526</td><td style = \"text-align: left;\">57,526</td><td style = \"text-align: left;\">57,494</td><td style = \"text-align: left;\">57,787</td><td style = \"text-align: left;\">57,771</td><td style = \"text-align: left;\">57,826</td></tr></tbody></table></div>"
      ],
      "text/latex": [
       "\\begin{tabular}{r|cccc}\n",
       "\t& Geographic Area Name (Grouping) & 4/1/2010 Census population!!Population & 4/1/2010 population estimates base!!Population & \\\\\n",
       "\t\\hline\n",
       "\t& String & String15 & String15 & \\\\\n",
       "\t\\hline\n",
       "\t1 & Autauga County, Alabama & 54,571 & 54,597 & $\\dots$ \\\\\n",
       "\t2 & Baldwin County, Alabama & 182,265 & 182,265 & $\\dots$ \\\\\n",
       "\t3 & Barbour County, Alabama & 27,457 & 27,455 & $\\dots$ \\\\\n",
       "\t4 & Bibb County, Alabama & 22,915 & 22,915 & $\\dots$ \\\\\n",
       "\t5 & Blount County, Alabama & 57,322 & 57,322 & $\\dots$ \\\\\n",
       "\\end{tabular}\n"
      ],
      "text/plain": [
       "\u001b[1m5×13 DataFrame\u001b[0m\n",
       "\u001b[1m Row \u001b[0m│\u001b[1m Geographic Area Name (Grouping) \u001b[0m\u001b[1m 4/1/2010 Census population!!Population\u001b[0m ⋯\n",
       "     │\u001b[90m String                          \u001b[0m\u001b[90m String15                              \u001b[0m ⋯\n",
       "─────┼──────────────────────────────────────────────────────────────────────────\n",
       "   1 │ Autauga County, Alabama          54,571                                 ⋯\n",
       "   2 │ Baldwin County, Alabama          182,265\n",
       "   3 │ Barbour County, Alabama          27,457\n",
       "   4 │ Bibb County, Alabama             22,915\n",
       "   5 │ Blount County, Alabama           57,322                                 ⋯\n",
       "\u001b[36m                                                              11 columns omitted\u001b[0m"
      ]
     },
     "execution_count": 5,
     "metadata": {},
     "output_type": "execute_result"
    }
   ],
   "source": [
    "df = CSV.read(\"./PEPPOP2019.PEPANNRES-2023-01-08T111700.csv\", DataFrame)\n",
    "first(df, 5)"
   ]
  },
  {
   "cell_type": "code",
   "execution_count": 6,
   "id": "b51608f9",
   "metadata": {},
   "outputs": [
    {
     "data": {
      "text/html": [
       "<div><div style = \"float: left;\"><span>3220×11 DataFrame</span></div><div style = \"float: right;\"><span style = \"font-style: italic;\">3214 rows omitted</span></div><div style = \"clear: both;\"></div></div><div class = \"data-frame\" style = \"overflow-x: scroll;\"><table class = \"data-frame\" style = \"margin-bottom: 6px;\"><thead><tr class = \"header\"><th class = \"rowNumber\" style = \"font-weight: bold; text-align: right;\">Row</th><th style = \"text-align: left;\">Geographic Area Name (Grouping)</th><th style = \"text-align: left;\">7/1/2010 population estimate!!Population</th><th style = \"text-align: left;\">7/1/2011 population estimate!!Population</th><th style = \"text-align: left;\">7/1/2012 population estimate!!Population</th><th style = \"text-align: left;\">7/1/2013 population estimate!!Population</th><th style = \"text-align: left;\">7/1/2014 population estimate!!Population</th><th style = \"text-align: left;\">7/1/2015 population estimate!!Population</th><th style = \"text-align: left;\">7/1/2016 population estimate!!Population</th><th style = \"text-align: left;\">7/1/2017 population estimate!!Population</th><th style = \"text-align: left;\">7/1/2018 population estimate!!Population</th><th style = \"text-align: left;\">7/1/2019 population estimate!!Population</th></tr><tr class = \"subheader headerLastRow\"><th class = \"rowNumber\" style = \"font-weight: bold; text-align: right;\"></th><th title = \"String\" style = \"text-align: left;\">String</th><th title = \"String15\" style = \"text-align: left;\">String15</th><th title = \"String15\" style = \"text-align: left;\">String15</th><th title = \"String15\" style = \"text-align: left;\">String15</th><th title = \"String15\" style = \"text-align: left;\">String15</th><th title = \"String15\" style = \"text-align: left;\">String15</th><th title = \"String15\" style = \"text-align: left;\">String15</th><th title = \"String15\" style = \"text-align: left;\">String15</th><th title = \"String15\" style = \"text-align: left;\">String15</th><th title = \"String15\" style = \"text-align: left;\">String15</th><th title = \"String15\" style = \"text-align: left;\">String15</th></tr></thead><tbody><tr><td class = \"rowNumber\" style = \"font-weight: bold; text-align: right;\">1</td><td style = \"text-align: left;\">Autauga County, Alabama</td><td style = \"text-align: left;\">54,773</td><td style = \"text-align: left;\">55,227</td><td style = \"text-align: left;\">54,954</td><td style = \"text-align: left;\">54,727</td><td style = \"text-align: left;\">54,893</td><td style = \"text-align: left;\">54,864</td><td style = \"text-align: left;\">55,243</td><td style = \"text-align: left;\">55,390</td><td style = \"text-align: left;\">55,533</td><td style = \"text-align: left;\">55,869</td></tr><tr><td class = \"rowNumber\" style = \"font-weight: bold; text-align: right;\">2</td><td style = \"text-align: left;\">Baldwin County, Alabama</td><td style = \"text-align: left;\">183,112</td><td style = \"text-align: left;\">186,558</td><td style = \"text-align: left;\">190,145</td><td style = \"text-align: left;\">194,885</td><td style = \"text-align: left;\">199,183</td><td style = \"text-align: left;\">202,939</td><td style = \"text-align: left;\">207,601</td><td style = \"text-align: left;\">212,521</td><td style = \"text-align: left;\">217,855</td><td style = \"text-align: left;\">223,234</td></tr><tr><td class = \"rowNumber\" style = \"font-weight: bold; text-align: right;\">3</td><td style = \"text-align: left;\">Barbour County, Alabama</td><td style = \"text-align: left;\">27,327</td><td style = \"text-align: left;\">27,341</td><td style = \"text-align: left;\">27,169</td><td style = \"text-align: left;\">26,937</td><td style = \"text-align: left;\">26,755</td><td style = \"text-align: left;\">26,283</td><td style = \"text-align: left;\">25,806</td><td style = \"text-align: left;\">25,157</td><td style = \"text-align: left;\">24,872</td><td style = \"text-align: left;\">24,686</td></tr><tr><td style = \"text-align: right;\">&vellip;</td><td style = \"text-align: right;\">&vellip;</td><td style = \"text-align: right;\">&vellip;</td><td style = \"text-align: right;\">&vellip;</td><td style = \"text-align: right;\">&vellip;</td><td style = \"text-align: right;\">&vellip;</td><td style = \"text-align: right;\">&vellip;</td><td style = \"text-align: right;\">&vellip;</td><td style = \"text-align: right;\">&vellip;</td><td style = \"text-align: right;\">&vellip;</td><td style = \"text-align: right;\">&vellip;</td><td style = \"text-align: right;\">&vellip;</td></tr><tr><td class = \"rowNumber\" style = \"font-weight: bold; text-align: right;\">3218</td><td style = \"text-align: left;\">Villalba Municipio, Puerto Rico</td><td style = \"text-align: left;\">26,001</td><td style = \"text-align: left;\">25,542</td><td style = \"text-align: left;\">25,135</td><td style = \"text-align: left;\">24,745</td><td style = \"text-align: left;\">24,256</td><td style = \"text-align: left;\">23,662</td><td style = \"text-align: left;\">23,091</td><td style = \"text-align: left;\">22,452</td><td style = \"text-align: left;\">21,436</td><td style = \"text-align: left;\">21,372</td></tr><tr><td class = \"rowNumber\" style = \"font-weight: bold; text-align: right;\">3219</td><td style = \"text-align: left;\">Yabucoa Municipio, Puerto Rico</td><td style = \"text-align: left;\">37,874</td><td style = \"text-align: left;\">37,361</td><td style = \"text-align: left;\">36,844</td><td style = \"text-align: left;\">36,377</td><td style = \"text-align: left;\">35,732</td><td style = \"text-align: left;\">35,076</td><td style = \"text-align: left;\">34,363</td><td style = \"text-align: left;\">33,519</td><td style = \"text-align: left;\">32,254</td><td style = \"text-align: left;\">32,282</td></tr><tr><td class = \"rowNumber\" style = \"font-weight: bold; text-align: right;\">3220</td><td style = \"text-align: left;\">Yauco Municipio, Puerto Rico</td><td style = \"text-align: left;\">41,828</td><td style = \"text-align: left;\">41,036</td><td style = \"text-align: left;\">40,249</td><td style = \"text-align: left;\">39,492</td><td style = \"text-align: left;\">38,535</td><td style = \"text-align: left;\">37,585</td><td style = \"text-align: left;\">36,654</td><td style = \"text-align: left;\">35,474</td><td style = \"text-align: left;\">33,853</td><td style = \"text-align: left;\">33,575</td></tr></tbody></table></div>"
      ],
      "text/latex": [
       "\\begin{tabular}{r|cccc}\n",
       "\t& Geographic Area Name (Grouping) & 7/1/2010 population estimate!!Population & 7/1/2011 population estimate!!Population & \\\\\n",
       "\t\\hline\n",
       "\t& String & String15 & String15 & \\\\\n",
       "\t\\hline\n",
       "\t1 & Autauga County, Alabama & 54,773 & 55,227 & $\\dots$ \\\\\n",
       "\t2 & Baldwin County, Alabama & 183,112 & 186,558 & $\\dots$ \\\\\n",
       "\t3 & Barbour County, Alabama & 27,327 & 27,341 & $\\dots$ \\\\\n",
       "\t4 & Bibb County, Alabama & 22,870 & 22,745 & $\\dots$ \\\\\n",
       "\t5 & Blount County, Alabama & 57,376 & 57,560 & $\\dots$ \\\\\n",
       "\t6 & Bullock County, Alabama & 10,876 & 10,675 & $\\dots$ \\\\\n",
       "\t7 & Butler County, Alabama & 20,932 & 20,866 & $\\dots$ \\\\\n",
       "\t8 & Calhoun County, Alabama & 118,408 & 117,744 & $\\dots$ \\\\\n",
       "\t9 & Chambers County, Alabama & 34,122 & 34,033 & $\\dots$ \\\\\n",
       "\t10 & Cherokee County, Alabama & 25,963 & 25,989 & $\\dots$ \\\\\n",
       "\t11 & Chilton County, Alabama & 43,653 & 43,689 & $\\dots$ \\\\\n",
       "\t12 & Choctaw County, Alabama & 13,849 & 13,609 & $\\dots$ \\\\\n",
       "\t13 & Clarke County, Alabama & 25,766 & 25,587 & $\\dots$ \\\\\n",
       "\t14 & Clay County, Alabama & 13,898 & 13,687 & $\\dots$ \\\\\n",
       "\t15 & Cleburne County, Alabama & 15,004 & 14,928 & $\\dots$ \\\\\n",
       "\t16 & Coffee County, Alabama & 50,208 & 50,444 & $\\dots$ \\\\\n",
       "\t17 & Colbert County, Alabama & 54,524 & 54,539 & $\\dots$ \\\\\n",
       "\t18 & Conecuh County, Alabama & 13,236 & 13,195 & $\\dots$ \\\\\n",
       "\t19 & Coosa County, Alabama & 11,780 & 11,486 & $\\dots$ \\\\\n",
       "\t20 & Covington County, Alabama & 37,809 & 38,020 & $\\dots$ \\\\\n",
       "\t21 & Crenshaw County, Alabama & 13,869 & 13,894 & $\\dots$ \\\\\n",
       "\t22 & Cullman County, Alabama & 80,456 & 80,410 & $\\dots$ \\\\\n",
       "\t23 & Dale County, Alabama & 50,394 & 50,122 & $\\dots$ \\\\\n",
       "\t24 & Dallas County, Alabama & 43,854 & 43,251 & $\\dots$ \\\\\n",
       "\t25 & DeKalb County, Alabama & 71,163 & 71,365 & $\\dots$ \\\\\n",
       "\t26 & Elmore County, Alabama & 79,552 & 79,993 & $\\dots$ \\\\\n",
       "\t27 & Escambia County, Alabama & 38,345 & 38,204 & $\\dots$ \\\\\n",
       "\t28 & Etowah County, Alabama & 104,459 & 104,369 & $\\dots$ \\\\\n",
       "\t29 & Fayette County, Alabama & 17,229 & 17,052 & $\\dots$ \\\\\n",
       "\t30 & Franklin County, Alabama & 31,746 & 31,776 & $\\dots$ \\\\\n",
       "\t$\\dots$ & $\\dots$ & $\\dots$ & $\\dots$ &  \\\\\n",
       "\\end{tabular}\n"
      ],
      "text/plain": [
       "\u001b[1m3220×11 DataFrame\u001b[0m\n",
       "\u001b[1m  Row \u001b[0m│\u001b[1m Geographic Area Name (Grouping)   \u001b[0m\u001b[1m 7/1/2010 population estimate!!Popul\u001b[0m ⋯\n",
       "      │\u001b[90m String                            \u001b[0m\u001b[90m String15                           \u001b[0m ⋯\n",
       "──────┼─────────────────────────────────────────────────────────────────────────\n",
       "    1 │ Autauga County, Alabama            54,773                              ⋯\n",
       "    2 │ Baldwin County, Alabama            183,112\n",
       "    3 │ Barbour County, Alabama            27,327\n",
       "    4 │ Bibb County, Alabama               22,870\n",
       "    5 │ Blount County, Alabama             57,376                              ⋯\n",
       "    6 │ Bullock County, Alabama            10,876\n",
       "    7 │ Butler County, Alabama             20,932\n",
       "    8 │ Calhoun County, Alabama            118,408\n",
       "    9 │ Chambers County, Alabama           34,122                              ⋯\n",
       "   10 │ Cherokee County, Alabama           25,963\n",
       "   11 │ Chilton County, Alabama            43,653\n",
       "  ⋮   │                 ⋮                                     ⋮                ⋱\n",
       " 3211 │ Toa Alta Municipio, Puerto Rico    74,282\n",
       " 3212 │ Toa Baja Municipio, Puerto Rico    89,474                              ⋯\n",
       " 3213 │ Trujillo Alto Municipio, Puerto …  74,785\n",
       " 3214 │ Utuado Municipio, Puerto Rico      33,045\n",
       " 3215 │ Vega Alta Municipio, Puerto Rico   39,934\n",
       " 3216 │ Vega Baja Municipio, Puerto Rico   59,562                              ⋯\n",
       " 3217 │ Vieques Municipio, Puerto Rico     9,314\n",
       " 3218 │ Villalba Municipio, Puerto Rico    26,001\n",
       " 3219 │ Yabucoa Municipio, Puerto Rico     37,874\n",
       " 3220 │ Yauco Municipio, Puerto Rico       41,828                              ⋯\n",
       "\u001b[36m                                                10 columns and 3199 rows omitted\u001b[0m"
      ]
     },
     "execution_count": 6,
     "metadata": {},
     "output_type": "execute_result"
    }
   ],
   "source": [
    "# get rid of first two population columns as there are 3 columns for 2010\n",
    "df = select(df, Not(\"4/1/2010 Census population!!Population\"))\n",
    "df = select(df, Not(\"4/1/2010 population estimates base!!Population\"))"
   ]
  },
  {
   "cell_type": "code",
   "execution_count": 7,
   "id": "f381922c",
   "metadata": {},
   "outputs": [
    {
     "data": {
      "text/html": [
       "<div><div style = \"float: left;\"><span>3220×11 DataFrame</span></div><div style = \"float: right;\"><span style = \"font-style: italic;\">3214 rows omitted</span></div><div style = \"clear: both;\"></div></div><div class = \"data-frame\" style = \"overflow-x: scroll;\"><table class = \"data-frame\" style = \"margin-bottom: 6px;\"><thead><tr class = \"header\"><th class = \"rowNumber\" style = \"font-weight: bold; text-align: right;\">Row</th><th style = \"text-align: left;\">County</th><th style = \"text-align: left;\">2010</th><th style = \"text-align: left;\">2011</th><th style = \"text-align: left;\">2012</th><th style = \"text-align: left;\">2013</th><th style = \"text-align: left;\">2014</th><th style = \"text-align: left;\">2015</th><th style = \"text-align: left;\">2016</th><th style = \"text-align: left;\">2017</th><th style = \"text-align: left;\">2018</th><th style = \"text-align: left;\">2019</th></tr><tr class = \"subheader headerLastRow\"><th class = \"rowNumber\" style = \"font-weight: bold; text-align: right;\"></th><th title = \"String\" style = \"text-align: left;\">String</th><th title = \"String15\" style = \"text-align: left;\">String15</th><th title = \"String15\" style = \"text-align: left;\">String15</th><th title = \"String15\" style = \"text-align: left;\">String15</th><th title = \"String15\" style = \"text-align: left;\">String15</th><th title = \"String15\" style = \"text-align: left;\">String15</th><th title = \"String15\" style = \"text-align: left;\">String15</th><th title = \"String15\" style = \"text-align: left;\">String15</th><th title = \"String15\" style = \"text-align: left;\">String15</th><th title = \"String15\" style = \"text-align: left;\">String15</th><th title = \"String15\" style = \"text-align: left;\">String15</th></tr></thead><tbody><tr><td class = \"rowNumber\" style = \"font-weight: bold; text-align: right;\">1</td><td style = \"text-align: left;\">Autauga County, Alabama</td><td style = \"text-align: left;\">54,773</td><td style = \"text-align: left;\">55,227</td><td style = \"text-align: left;\">54,954</td><td style = \"text-align: left;\">54,727</td><td style = \"text-align: left;\">54,893</td><td style = \"text-align: left;\">54,864</td><td style = \"text-align: left;\">55,243</td><td style = \"text-align: left;\">55,390</td><td style = \"text-align: left;\">55,533</td><td style = \"text-align: left;\">55,869</td></tr><tr><td class = \"rowNumber\" style = \"font-weight: bold; text-align: right;\">2</td><td style = \"text-align: left;\">Baldwin County, Alabama</td><td style = \"text-align: left;\">183,112</td><td style = \"text-align: left;\">186,558</td><td style = \"text-align: left;\">190,145</td><td style = \"text-align: left;\">194,885</td><td style = \"text-align: left;\">199,183</td><td style = \"text-align: left;\">202,939</td><td style = \"text-align: left;\">207,601</td><td style = \"text-align: left;\">212,521</td><td style = \"text-align: left;\">217,855</td><td style = \"text-align: left;\">223,234</td></tr><tr><td class = \"rowNumber\" style = \"font-weight: bold; text-align: right;\">3</td><td style = \"text-align: left;\">Barbour County, Alabama</td><td style = \"text-align: left;\">27,327</td><td style = \"text-align: left;\">27,341</td><td style = \"text-align: left;\">27,169</td><td style = \"text-align: left;\">26,937</td><td style = \"text-align: left;\">26,755</td><td style = \"text-align: left;\">26,283</td><td style = \"text-align: left;\">25,806</td><td style = \"text-align: left;\">25,157</td><td style = \"text-align: left;\">24,872</td><td style = \"text-align: left;\">24,686</td></tr><tr><td style = \"text-align: right;\">&vellip;</td><td style = \"text-align: right;\">&vellip;</td><td style = \"text-align: right;\">&vellip;</td><td style = \"text-align: right;\">&vellip;</td><td style = \"text-align: right;\">&vellip;</td><td style = \"text-align: right;\">&vellip;</td><td style = \"text-align: right;\">&vellip;</td><td style = \"text-align: right;\">&vellip;</td><td style = \"text-align: right;\">&vellip;</td><td style = \"text-align: right;\">&vellip;</td><td style = \"text-align: right;\">&vellip;</td><td style = \"text-align: right;\">&vellip;</td></tr><tr><td class = \"rowNumber\" style = \"font-weight: bold; text-align: right;\">3218</td><td style = \"text-align: left;\">Villalba Municipio, Puerto Rico</td><td style = \"text-align: left;\">26,001</td><td style = \"text-align: left;\">25,542</td><td style = \"text-align: left;\">25,135</td><td style = \"text-align: left;\">24,745</td><td style = \"text-align: left;\">24,256</td><td style = \"text-align: left;\">23,662</td><td style = \"text-align: left;\">23,091</td><td style = \"text-align: left;\">22,452</td><td style = \"text-align: left;\">21,436</td><td style = \"text-align: left;\">21,372</td></tr><tr><td class = \"rowNumber\" style = \"font-weight: bold; text-align: right;\">3219</td><td style = \"text-align: left;\">Yabucoa Municipio, Puerto Rico</td><td style = \"text-align: left;\">37,874</td><td style = \"text-align: left;\">37,361</td><td style = \"text-align: left;\">36,844</td><td style = \"text-align: left;\">36,377</td><td style = \"text-align: left;\">35,732</td><td style = \"text-align: left;\">35,076</td><td style = \"text-align: left;\">34,363</td><td style = \"text-align: left;\">33,519</td><td style = \"text-align: left;\">32,254</td><td style = \"text-align: left;\">32,282</td></tr><tr><td class = \"rowNumber\" style = \"font-weight: bold; text-align: right;\">3220</td><td style = \"text-align: left;\">Yauco Municipio, Puerto Rico</td><td style = \"text-align: left;\">41,828</td><td style = \"text-align: left;\">41,036</td><td style = \"text-align: left;\">40,249</td><td style = \"text-align: left;\">39,492</td><td style = \"text-align: left;\">38,535</td><td style = \"text-align: left;\">37,585</td><td style = \"text-align: left;\">36,654</td><td style = \"text-align: left;\">35,474</td><td style = \"text-align: left;\">33,853</td><td style = \"text-align: left;\">33,575</td></tr></tbody></table></div>"
      ],
      "text/latex": [
       "\\begin{tabular}{r|cccccccc}\n",
       "\t& County & 2010 & 2011 & 2012 & 2013 & 2014 & 2015 & \\\\\n",
       "\t\\hline\n",
       "\t& String & String15 & String15 & String15 & String15 & String15 & String15 & \\\\\n",
       "\t\\hline\n",
       "\t1 & Autauga County, Alabama & 54,773 & 55,227 & 54,954 & 54,727 & 54,893 & 54,864 & $\\dots$ \\\\\n",
       "\t2 & Baldwin County, Alabama & 183,112 & 186,558 & 190,145 & 194,885 & 199,183 & 202,939 & $\\dots$ \\\\\n",
       "\t3 & Barbour County, Alabama & 27,327 & 27,341 & 27,169 & 26,937 & 26,755 & 26,283 & $\\dots$ \\\\\n",
       "\t4 & Bibb County, Alabama & 22,870 & 22,745 & 22,667 & 22,521 & 22,553 & 22,566 & $\\dots$ \\\\\n",
       "\t5 & Blount County, Alabama & 57,376 & 57,560 & 57,580 & 57,619 & 57,526 & 57,526 & $\\dots$ \\\\\n",
       "\t6 & Bullock County, Alabama & 10,876 & 10,675 & 10,606 & 10,549 & 10,663 & 10,400 & $\\dots$ \\\\\n",
       "\t7 & Butler County, Alabama & 20,932 & 20,866 & 20,670 & 20,356 & 20,327 & 20,162 & $\\dots$ \\\\\n",
       "\t8 & Calhoun County, Alabama & 118,408 & 117,744 & 117,190 & 116,471 & 115,917 & 115,469 & $\\dots$ \\\\\n",
       "\t9 & Chambers County, Alabama & 34,122 & 34,033 & 34,104 & 34,139 & 33,977 & 33,996 & $\\dots$ \\\\\n",
       "\t10 & Cherokee County, Alabama & 25,963 & 25,989 & 25,958 & 26,017 & 25,895 & 25,732 & $\\dots$ \\\\\n",
       "\t11 & Chilton County, Alabama & 43,653 & 43,689 & 43,582 & 43,628 & 43,760 & 43,700 & $\\dots$ \\\\\n",
       "\t12 & Choctaw County, Alabama & 13,849 & 13,609 & 13,563 & 13,397 & 13,317 & 13,231 & $\\dots$ \\\\\n",
       "\t13 & Clarke County, Alabama & 25,766 & 25,587 & 25,155 & 25,123 & 24,864 & 24,698 & $\\dots$ \\\\\n",
       "\t14 & Clay County, Alabama & 13,898 & 13,687 & 13,434 & 13,404 & 13,441 & 13,415 & $\\dots$ \\\\\n",
       "\t15 & Cleburne County, Alabama & 15,004 & 14,928 & 14,889 & 14,976 & 15,026 & 14,914 & $\\dots$ \\\\\n",
       "\t16 & Coffee County, Alabama & 50,208 & 50,444 & 51,141 & 50,681 & 50,657 & 50,963 & $\\dots$ \\\\\n",
       "\t17 & Colbert County, Alabama & 54,524 & 54,539 & 54,570 & 54,529 & 54,462 & 54,417 & $\\dots$ \\\\\n",
       "\t18 & Conecuh County, Alabama & 13,236 & 13,195 & 13,046 & 12,912 & 12,677 & 12,678 & $\\dots$ \\\\\n",
       "\t19 & Coosa County, Alabama & 11,780 & 11,486 & 11,346 & 11,254 & 11,037 & 10,934 & $\\dots$ \\\\\n",
       "\t20 & Covington County, Alabama & 37,809 & 38,020 & 37,805 & 37,814 & 37,760 & 37,556 & $\\dots$ \\\\\n",
       "\t21 & Crenshaw County, Alabama & 13,869 & 13,894 & 13,915 & 13,847 & 13,851 & 13,850 & $\\dots$ \\\\\n",
       "\t22 & Cullman County, Alabama & 80,456 & 80,410 & 80,279 & 80,690 & 81,068 & 81,761 & $\\dots$ \\\\\n",
       "\t23 & Dale County, Alabama & 50,394 & 50,122 & 50,289 & 49,771 & 49,414 & 49,365 & $\\dots$ \\\\\n",
       "\t24 & Dallas County, Alabama & 43,854 & 43,251 & 42,789 & 41,976 & 41,554 & 40,936 & $\\dots$ \\\\\n",
       "\t25 & DeKalb County, Alabama & 71,163 & 71,365 & 70,944 & 70,912 & 70,993 & 71,087 & $\\dots$ \\\\\n",
       "\t26 & Elmore County, Alabama & 79,552 & 79,993 & 80,193 & 80,536 & 80,538 & 80,872 & $\\dots$ \\\\\n",
       "\t27 & Escambia County, Alabama & 38,345 & 38,204 & 38,023 & 37,765 & 37,735 & 37,661 & $\\dots$ \\\\\n",
       "\t28 & Etowah County, Alabama & 104,459 & 104,369 & 104,278 & 103,884 & 103,399 & 102,998 & $\\dots$ \\\\\n",
       "\t29 & Fayette County, Alabama & 17,229 & 17,052 & 16,945 & 16,824 & 16,772 & 16,696 & $\\dots$ \\\\\n",
       "\t30 & Franklin County, Alabama & 31,746 & 31,776 & 31,690 & 31,553 & 31,559 & 31,515 & $\\dots$ \\\\\n",
       "\t$\\dots$ & $\\dots$ & $\\dots$ & $\\dots$ & $\\dots$ & $\\dots$ & $\\dots$ & $\\dots$ &  \\\\\n",
       "\\end{tabular}\n"
      ],
      "text/plain": [
       "\u001b[1m3220×11 DataFrame\u001b[0m\n",
       "\u001b[1m  Row \u001b[0m│\u001b[1m County                            \u001b[0m\u001b[1m 2010     \u001b[0m\u001b[1m 2011     \u001b[0m\u001b[1m 2012     \u001b[0m\u001b[1m 2013 \u001b[0m ⋯\n",
       "      │\u001b[90m String                            \u001b[0m\u001b[90m String15 \u001b[0m\u001b[90m String15 \u001b[0m\u001b[90m String15 \u001b[0m\u001b[90m Strin\u001b[0m ⋯\n",
       "──────┼─────────────────────────────────────────────────────────────────────────\n",
       "    1 │ Autauga County, Alabama            54,773    55,227    54,954    54,72 ⋯\n",
       "    2 │ Baldwin County, Alabama            183,112   186,558   190,145   194,8\n",
       "    3 │ Barbour County, Alabama            27,327    27,341    27,169    26,93\n",
       "    4 │ Bibb County, Alabama               22,870    22,745    22,667    22,52\n",
       "    5 │ Blount County, Alabama             57,376    57,560    57,580    57,61 ⋯\n",
       "    6 │ Bullock County, Alabama            10,876    10,675    10,606    10,54\n",
       "    7 │ Butler County, Alabama             20,932    20,866    20,670    20,35\n",
       "    8 │ Calhoun County, Alabama            118,408   117,744   117,190   116,4\n",
       "    9 │ Chambers County, Alabama           34,122    34,033    34,104    34,13 ⋯\n",
       "   10 │ Cherokee County, Alabama           25,963    25,989    25,958    26,01\n",
       "   11 │ Chilton County, Alabama            43,653    43,689    43,582    43,62\n",
       "  ⋮   │                 ⋮                     ⋮         ⋮         ⋮         ⋮  ⋱\n",
       " 3211 │ Toa Alta Municipio, Puerto Rico    74,282    74,532    74,661    74,81\n",
       " 3212 │ Toa Baja Municipio, Puerto Rico    89,474    88,094    86,743    85,51 ⋯\n",
       " 3213 │ Trujillo Alto Municipio, Puerto …  74,785    73,915    73,038    72,12\n",
       " 3214 │ Utuado Municipio, Puerto Rico      33,045    32,563    32,027    31,54\n",
       " 3215 │ Vega Alta Municipio, Puerto Rico   39,934    39,798    39,610    39,48\n",
       " 3216 │ Vega Baja Municipio, Puerto Rico   59,562    58,688    57,857    57,06 ⋯\n",
       " 3217 │ Vieques Municipio, Puerto Rico     9,314     9,247     9,227     9,179\n",
       " 3218 │ Villalba Municipio, Puerto Rico    26,001    25,542    25,135    24,74\n",
       " 3219 │ Yabucoa Municipio, Puerto Rico     37,874    37,361    36,844    36,37\n",
       " 3220 │ Yauco Municipio, Puerto Rico       41,828    41,036    40,249    39,49 ⋯\n",
       "\u001b[36m                                                 7 columns and 3199 rows omitted\u001b[0m"
      ]
     },
     "execution_count": 7,
     "metadata": {},
     "output_type": "execute_result"
    }
   ],
   "source": [
    "# rename columns to be less wieldy\n",
    "#rename!(df, \"Geographic Area Name (Grouping)\" => \"County\")\n",
    "rename!(df,[\"County\",\"2010\", \"2011\", \"2012\", \"2013\", \"2014\", \"2015\", \"2016\", \"2017\", \"2018\", \"2019\"])"
   ]
  },
  {
   "cell_type": "code",
   "execution_count": 8,
   "id": "26967d84",
   "metadata": {},
   "outputs": [
    {
     "data": {
      "text/html": [
       "<div><div style = \"float: left;\"><span>3220×10 DataFrame</span></div><div style = \"float: right;\"><span style = \"font-style: italic;\">3214 rows omitted</span></div><div style = \"clear: both;\"></div></div><div class = \"data-frame\" style = \"overflow-x: scroll;\"><table class = \"data-frame\" style = \"margin-bottom: 6px;\"><thead><tr class = \"header\"><th class = \"rowNumber\" style = \"font-weight: bold; text-align: right;\">Row</th><th style = \"text-align: left;\">2010</th><th style = \"text-align: left;\">2011</th><th style = \"text-align: left;\">2012</th><th style = \"text-align: left;\">2013</th><th style = \"text-align: left;\">2014</th><th style = \"text-align: left;\">2015</th><th style = \"text-align: left;\">2016</th><th style = \"text-align: left;\">2017</th><th style = \"text-align: left;\">2018</th><th style = \"text-align: left;\">2019</th></tr><tr class = \"subheader headerLastRow\"><th class = \"rowNumber\" style = \"font-weight: bold; text-align: right;\"></th><th title = \"Int64\" style = \"text-align: left;\">Int64</th><th title = \"Int64\" style = \"text-align: left;\">Int64</th><th title = \"Int64\" style = \"text-align: left;\">Int64</th><th title = \"Int64\" style = \"text-align: left;\">Int64</th><th title = \"Int64\" style = \"text-align: left;\">Int64</th><th title = \"Int64\" style = \"text-align: left;\">Int64</th><th title = \"Int64\" style = \"text-align: left;\">Int64</th><th title = \"Int64\" style = \"text-align: left;\">Int64</th><th title = \"Int64\" style = \"text-align: left;\">Int64</th><th title = \"Int64\" style = \"text-align: left;\">Int64</th></tr></thead><tbody><tr><td class = \"rowNumber\" style = \"font-weight: bold; text-align: right;\">1</td><td style = \"text-align: right;\">54773</td><td style = \"text-align: right;\">55227</td><td style = \"text-align: right;\">54954</td><td style = \"text-align: right;\">54727</td><td style = \"text-align: right;\">54893</td><td style = \"text-align: right;\">54864</td><td style = \"text-align: right;\">55243</td><td style = \"text-align: right;\">55390</td><td style = \"text-align: right;\">55533</td><td style = \"text-align: right;\">55869</td></tr><tr><td class = \"rowNumber\" style = \"font-weight: bold; text-align: right;\">2</td><td style = \"text-align: right;\">183112</td><td style = \"text-align: right;\">186558</td><td style = \"text-align: right;\">190145</td><td style = \"text-align: right;\">194885</td><td style = \"text-align: right;\">199183</td><td style = \"text-align: right;\">202939</td><td style = \"text-align: right;\">207601</td><td style = \"text-align: right;\">212521</td><td style = \"text-align: right;\">217855</td><td style = \"text-align: right;\">223234</td></tr><tr><td class = \"rowNumber\" style = \"font-weight: bold; text-align: right;\">3</td><td style = \"text-align: right;\">27327</td><td style = \"text-align: right;\">27341</td><td style = \"text-align: right;\">27169</td><td style = \"text-align: right;\">26937</td><td style = \"text-align: right;\">26755</td><td style = \"text-align: right;\">26283</td><td style = \"text-align: right;\">25806</td><td style = \"text-align: right;\">25157</td><td style = \"text-align: right;\">24872</td><td style = \"text-align: right;\">24686</td></tr><tr><td style = \"text-align: right;\">&vellip;</td><td style = \"text-align: right;\">&vellip;</td><td style = \"text-align: right;\">&vellip;</td><td style = \"text-align: right;\">&vellip;</td><td style = \"text-align: right;\">&vellip;</td><td style = \"text-align: right;\">&vellip;</td><td style = \"text-align: right;\">&vellip;</td><td style = \"text-align: right;\">&vellip;</td><td style = \"text-align: right;\">&vellip;</td><td style = \"text-align: right;\">&vellip;</td><td style = \"text-align: right;\">&vellip;</td></tr><tr><td class = \"rowNumber\" style = \"font-weight: bold; text-align: right;\">3218</td><td style = \"text-align: right;\">26001</td><td style = \"text-align: right;\">25542</td><td style = \"text-align: right;\">25135</td><td style = \"text-align: right;\">24745</td><td style = \"text-align: right;\">24256</td><td style = \"text-align: right;\">23662</td><td style = \"text-align: right;\">23091</td><td style = \"text-align: right;\">22452</td><td style = \"text-align: right;\">21436</td><td style = \"text-align: right;\">21372</td></tr><tr><td class = \"rowNumber\" style = \"font-weight: bold; text-align: right;\">3219</td><td style = \"text-align: right;\">37874</td><td style = \"text-align: right;\">37361</td><td style = \"text-align: right;\">36844</td><td style = \"text-align: right;\">36377</td><td style = \"text-align: right;\">35732</td><td style = \"text-align: right;\">35076</td><td style = \"text-align: right;\">34363</td><td style = \"text-align: right;\">33519</td><td style = \"text-align: right;\">32254</td><td style = \"text-align: right;\">32282</td></tr><tr><td class = \"rowNumber\" style = \"font-weight: bold; text-align: right;\">3220</td><td style = \"text-align: right;\">41828</td><td style = \"text-align: right;\">41036</td><td style = \"text-align: right;\">40249</td><td style = \"text-align: right;\">39492</td><td style = \"text-align: right;\">38535</td><td style = \"text-align: right;\">37585</td><td style = \"text-align: right;\">36654</td><td style = \"text-align: right;\">35474</td><td style = \"text-align: right;\">33853</td><td style = \"text-align: right;\">33575</td></tr></tbody></table></div>"
      ],
      "text/latex": [
       "\\begin{tabular}{r|cccccccccc}\n",
       "\t& 2010 & 2011 & 2012 & 2013 & 2014 & 2015 & 2016 & 2017 & 2018 & 2019\\\\\n",
       "\t\\hline\n",
       "\t& Int64 & Int64 & Int64 & Int64 & Int64 & Int64 & Int64 & Int64 & Int64 & Int64\\\\\n",
       "\t\\hline\n",
       "\t1 & 54773 & 55227 & 54954 & 54727 & 54893 & 54864 & 55243 & 55390 & 55533 & 55869 \\\\\n",
       "\t2 & 183112 & 186558 & 190145 & 194885 & 199183 & 202939 & 207601 & 212521 & 217855 & 223234 \\\\\n",
       "\t3 & 27327 & 27341 & 27169 & 26937 & 26755 & 26283 & 25806 & 25157 & 24872 & 24686 \\\\\n",
       "\t4 & 22870 & 22745 & 22667 & 22521 & 22553 & 22566 & 22586 & 22550 & 22367 & 22394 \\\\\n",
       "\t5 & 57376 & 57560 & 57580 & 57619 & 57526 & 57526 & 57494 & 57787 & 57771 & 57826 \\\\\n",
       "\t6 & 10876 & 10675 & 10606 & 10549 & 10663 & 10400 & 10389 & 10176 & 10174 & 10101 \\\\\n",
       "\t7 & 20932 & 20866 & 20670 & 20356 & 20327 & 20162 & 20012 & 19888 & 19631 & 19448 \\\\\n",
       "\t8 & 118408 & 117744 & 117190 & 116471 & 115917 & 115469 & 114973 & 114710 & 114331 & 113605 \\\\\n",
       "\t9 & 34122 & 34033 & 34104 & 34139 & 33977 & 33996 & 33745 & 33707 & 33600 & 33254 \\\\\n",
       "\t10 & 25963 & 25989 & 25958 & 26017 & 25895 & 25732 & 25768 & 25805 & 26014 & 26196 \\\\\n",
       "\t11 & 43653 & 43689 & 43582 & 43628 & 43760 & 43700 & 43866 & 44120 & 44163 & 44428 \\\\\n",
       "\t12 & 13849 & 13609 & 13563 & 13397 & 13317 & 13231 & 13045 & 12925 & 12833 & 12589 \\\\\n",
       "\t13 & 25766 & 25587 & 25155 & 25123 & 24864 & 24698 & 24340 & 24063 & 23918 & 23622 \\\\\n",
       "\t14 & 13898 & 13687 & 13434 & 13404 & 13441 & 13415 & 13393 & 13350 & 13294 & 13235 \\\\\n",
       "\t15 & 15004 & 14928 & 14889 & 14976 & 15026 & 14914 & 14848 & 14899 & 15010 & 14910 \\\\\n",
       "\t16 & 50208 & 50444 & 51141 & 50681 & 50657 & 50963 & 51202 & 51853 & 51950 & 52342 \\\\\n",
       "\t17 & 54524 & 54539 & 54570 & 54529 & 54462 & 54417 & 54497 & 54695 & 55004 & 55241 \\\\\n",
       "\t18 & 13236 & 13195 & 13046 & 12912 & 12677 & 12678 & 12500 & 12431 & 12292 & 12067 \\\\\n",
       "\t19 & 11780 & 11486 & 11346 & 11254 & 11037 & 10934 & 10819 & 10724 & 10643 & 10663 \\\\\n",
       "\t20 & 37809 & 38020 & 37805 & 37814 & 37760 & 37556 & 37382 & 37062 & 36953 & 37049 \\\\\n",
       "\t21 & 13869 & 13894 & 13915 & 13847 & 13851 & 13850 & 13916 & 13858 & 13825 & 13772 \\\\\n",
       "\t22 & 80456 & 80410 & 80279 & 80690 & 81068 & 81761 & 82450 & 82867 & 83418 & 83768 \\\\\n",
       "\t23 & 50394 & 50122 & 50289 & 49771 & 49414 & 49365 & 49362 & 49342 & 49143 & 49172 \\\\\n",
       "\t24 & 43854 & 43251 & 42789 & 41976 & 41554 & 40936 & 40080 & 39238 & 38294 & 37196 \\\\\n",
       "\t25 & 71163 & 71365 & 70944 & 70912 & 70993 & 71087 & 71104 & 71437 & 71407 & 71513 \\\\\n",
       "\t26 & 79552 & 79993 & 80193 & 80536 & 80538 & 80872 & 81204 & 81422 & 81011 & 81209 \\\\\n",
       "\t27 & 38345 & 38204 & 38023 & 37765 & 37735 & 37661 & 37475 & 36993 & 36524 & 36633 \\\\\n",
       "\t28 & 104459 & 104369 & 104278 & 103884 & 103399 & 102998 & 102855 & 103007 & 102611 & 102268 \\\\\n",
       "\t29 & 17229 & 17052 & 16945 & 16824 & 16772 & 16696 & 16563 & 16466 & 16445 & 16302 \\\\\n",
       "\t30 & 31746 & 31776 & 31690 & 31553 & 31559 & 31515 & 31611 & 31542 & 31298 & 31362 \\\\\n",
       "\t$\\dots$ & $\\dots$ & $\\dots$ & $\\dots$ & $\\dots$ & $\\dots$ & $\\dots$ & $\\dots$ & $\\dots$ & $\\dots$ & $\\dots$ \\\\\n",
       "\\end{tabular}\n"
      ],
      "text/plain": [
       "\u001b[1m3220×10 DataFrame\u001b[0m\n",
       "\u001b[1m  Row \u001b[0m│\u001b[1m 2010   \u001b[0m\u001b[1m 2011   \u001b[0m\u001b[1m 2012   \u001b[0m\u001b[1m 2013   \u001b[0m\u001b[1m 2014   \u001b[0m\u001b[1m 2015   \u001b[0m\u001b[1m 2016   \u001b[0m\u001b[1m 2017   \u001b[0m\u001b[1m 2018  \u001b[0m ⋯\n",
       "      │\u001b[90m Int64  \u001b[0m\u001b[90m Int64  \u001b[0m\u001b[90m Int64  \u001b[0m\u001b[90m Int64  \u001b[0m\u001b[90m Int64  \u001b[0m\u001b[90m Int64  \u001b[0m\u001b[90m Int64  \u001b[0m\u001b[90m Int64  \u001b[0m\u001b[90m Int64 \u001b[0m ⋯\n",
       "──────┼─────────────────────────────────────────────────────────────────────────\n",
       "    1 │  54773   55227   54954   54727   54893   54864   55243   55390   55533 ⋯\n",
       "    2 │ 183112  186558  190145  194885  199183  202939  207601  212521  217855\n",
       "    3 │  27327   27341   27169   26937   26755   26283   25806   25157   24872\n",
       "    4 │  22870   22745   22667   22521   22553   22566   22586   22550   22367\n",
       "    5 │  57376   57560   57580   57619   57526   57526   57494   57787   57771 ⋯\n",
       "    6 │  10876   10675   10606   10549   10663   10400   10389   10176   10174\n",
       "    7 │  20932   20866   20670   20356   20327   20162   20012   19888   19631\n",
       "    8 │ 118408  117744  117190  116471  115917  115469  114973  114710  114331\n",
       "    9 │  34122   34033   34104   34139   33977   33996   33745   33707   33600 ⋯\n",
       "   10 │  25963   25989   25958   26017   25895   25732   25768   25805   26014\n",
       "   11 │  43653   43689   43582   43628   43760   43700   43866   44120   44163\n",
       "  ⋮   │   ⋮       ⋮       ⋮       ⋮       ⋮       ⋮       ⋮       ⋮       ⋮    ⋱\n",
       " 3211 │  74282   74532   74661   74816   74603   74344   73890   73052   71008\n",
       " 3212 │  89474   88094   86743   85511   83853   82027   80211   77961   74582 ⋯\n",
       " 3213 │  74785   73915   73038   72126   70866   69614   68196   66487   63721\n",
       " 3214 │  33045   32563   32027   31542   30923   30241   29506   28738   27502\n",
       " 3215 │  39934   39798   39610   39482   39058   38646   37991   37050   35782\n",
       " 3216 │  59562   58688   57857   57063   55942   54805   53677   52318   50136 ⋯\n",
       " 3217 │   9314    9247    9227    9179    9081    8965    8833    8666    8362\n",
       " 3218 │  26001   25542   25135   24745   24256   23662   23091   22452   21436\n",
       " 3219 │  37874   37361   36844   36377   35732   35076   34363   33519   32254\n",
       " 3220 │  41828   41036   40249   39492   38535   37585   36654   35474   33853 ⋯\n",
       "\u001b[36m                                                  1 column and 3199 rows omitted\u001b[0m"
      ]
     },
     "execution_count": 8,
     "metadata": {},
     "output_type": "execute_result"
    }
   ],
   "source": [
    "df = mapcols(ByRow(y -> parse(Int, replace(y, \",\" => \"\"))), df[:, 2:11])"
   ]
  },
  {
   "cell_type": "code",
   "execution_count": 15,
   "id": "7bd8dffe",
   "metadata": {},
   "outputs": [
    {
     "data": {
      "text/plain": [
       "p (generic function with 1 method)"
      ]
     },
     "execution_count": 15,
     "metadata": {},
     "output_type": "execute_result"
    }
   ],
   "source": [
    "p(d)=log(10,1+1/d)"
   ]
  },
  {
   "cell_type": "code",
   "execution_count": 23,
   "id": "0797a905",
   "metadata": {},
   "outputs": [
    {
     "data": {
      "image/png": "[encoded data removed]",
      "text/plain": [
       "Figure(PyObject <Figure size 640x480 with 1 Axes>)"
      ]
     },
     "metadata": {},
     "output_type": "display_data"
    }
   ],
   "source": [
    "pop = df.\"2010\"\n",
    "first_digs = [first(reverse(digits(n))) for n in pop]\n",
    "    \n",
    "x_axis = 1:.1:9\n",
    "benford_values = map(t->p(t), x_axis)\n",
    "plot(x_axis, benford_values, label=\"Benford density\")\n",
    "    \n",
    "hist(first_digs, 9, density=true, label=\"Population counts\")\n",
    "legend(loc=\"upper center\")\n",
    ";"
   ]
  },
  {
   "cell_type": "code",
   "execution_count": null,
   "id": "499b759b",
   "metadata": {},
   "outputs": [],
   "source": [
    "Next steps\n",
    "- Plot second digit\n",
    "- Plot third digits"
   ]
  }
 ],
 "metadata": {
  "kernelspec": {
   "display_name": "Julia 1.8.3",
   "language": "julia",
   "name": "julia-1.8"
  },
  "language_info": {
   "file_extension": ".jl",
   "mimetype": "application/julia",
   "name": "julia",
   "version": "1.8.3"
  }
 },
 "nbformat": 4,
 "nbformat_minor": 5
}
