{
 "cells": [
  {
   "cell_type": "markdown",
   "id": "ec5fab58",
   "metadata": {},
   "source": [
    "Students are told to flip coin 100 times. Some students cheat and make up results instead. 10 students. When professor asks how many got 4 consecutive heads or tails, 6 students raise their hands. "
   ]
  },
  {
   "cell_type": "markdown",
   "id": "7ad9df68",
   "metadata": {},
   "source": [
    "$N_{k}$ is the number of flips to get n consecutive outcomes. What is $E[N_{k}]$? Let's simulate it."
   ]
  },
  {
   "cell_type": "code",
   "execution_count": 81,
   "id": "2a29d938",
   "metadata": {},
   "outputs": [
    {
     "name": "stderr",
     "output_type": "stream",
     "text": [
      "\u001b[32m\u001b[1m   Resolving\u001b[22m\u001b[39m package versions...\n",
      "\u001b[32m\u001b[1m  No Changes\u001b[22m\u001b[39m to `~/.julia/environments/v1.8/Project.toml`\n",
      "\u001b[32m\u001b[1m  No Changes\u001b[22m\u001b[39m to `~/.julia/environments/v1.8/Manifest.toml`\n"
     ]
    }
   ],
   "source": [
    "import Pkg; Pkg.add(\"Lazy\")"
   ]
  },
  {
   "cell_type": "code",
   "execution_count": 82,
   "id": "ced1fc70",
   "metadata": {},
   "outputs": [],
   "source": [
    "using Lazy\n",
    "using Statistics"
   ]
  },
  {
   "cell_type": "code",
   "execution_count": 83,
   "id": "bc37e864",
   "metadata": {},
   "outputs": [
    {
     "data": {
      "text/plain": [
       "flip_coin (generic function with 2 methods)"
      ]
     },
     "execution_count": 83,
     "metadata": {},
     "output_type": "execute_result"
    }
   ],
   "source": [
    "flip_coin(times=1) = rand(0:1, times)"
   ]
  },
  {
   "cell_type": "code",
   "execution_count": 84,
   "id": "4a040994",
   "metadata": {},
   "outputs": [
    {
     "data": {
      "text/plain": [
       "flip_until_4consecutive (generic function with 1 method)"
      ]
     },
     "execution_count": 84,
     "metadata": {},
     "output_type": "execute_result"
    }
   ],
   "source": [
    "function flip_until_4consecutive()\n",
    "    past_4_outcomes = flip_coin(4)\n",
    "    count = 4\n",
    "    while !allequal(past_4_outcomes) && count < 1_000_000_000\n",
    "        past_4_outcomes = push!(past_4_outcomes[2:4], flip_coin()[1])\n",
    "        count += 1\n",
    "    end\n",
    "    return count\n",
    "end"
   ]
  },
  {
   "cell_type": "code",
   "execution_count": 85,
   "id": "36b6dfa4",
   "metadata": {},
   "outputs": [
    {
     "data": {
      "text/plain": [
       "14.2"
      ]
     },
     "execution_count": 85,
     "metadata": {},
     "output_type": "execute_result"
    }
   ],
   "source": [
    "mean(Lazy.repeatedly(10, flip_until_4consecutive))"
   ]
  },
  {
   "cell_type": "code",
   "execution_count": 86,
   "id": "23dcd62e",
   "metadata": {},
   "outputs": [
    {
     "data": {
      "text/plain": [
       "15.0"
      ]
     },
     "execution_count": 86,
     "metadata": {},
     "output_type": "execute_result"
    }
   ],
   "source": [
    "mean(Lazy.repeatedly(100, flip_until_4consecutive))"
   ]
  },
  {
   "cell_type": "code",
   "execution_count": 87,
   "id": "a3f2294d",
   "metadata": {},
   "outputs": [
    {
     "data": {
      "text/plain": [
       "14.518"
      ]
     },
     "execution_count": 87,
     "metadata": {},
     "output_type": "execute_result"
    }
   ],
   "source": [
    "mean(Lazy.repeatedly(1000, flip_until_4consecutive))"
   ]
  },
  {
   "cell_type": "code",
   "execution_count": 88,
   "id": "77e59edb",
   "metadata": {},
   "outputs": [
    {
     "data": {
      "text/plain": [
       "14.8599"
      ]
     },
     "execution_count": 88,
     "metadata": {},
     "output_type": "execute_result"
    }
   ],
   "source": [
    "mean(Lazy.repeatedly(10_000, flip_until_4consecutive))"
   ]
  },
  {
   "cell_type": "code",
   "execution_count": 89,
   "id": "7813bcde",
   "metadata": {},
   "outputs": [
    {
     "data": {
      "text/plain": [
       "14.96994"
      ]
     },
     "execution_count": 89,
     "metadata": {},
     "output_type": "execute_result"
    }
   ],
   "source": [
    "mean(Lazy.repeatedly(100_000, flip_until_4consecutive))"
   ]
  },
  {
   "cell_type": "code",
   "execution_count": 90,
   "id": "36f8804d",
   "metadata": {},
   "outputs": [
    {
     "data": {
      "text/plain": [
       "15.007152"
      ]
     },
     "execution_count": 90,
     "metadata": {},
     "output_type": "execute_result"
    }
   ],
   "source": [
    "mean(Lazy.repeatedly(1_000_000, flip_until_4consecutive))"
   ]
  }
 ],
 "metadata": {
  "kernelspec": {
   "display_name": "Julia 1.8.5",
   "language": "julia",
   "name": "julia-1.8"
  },
  "language_info": {
   "file_extension": ".jl",
   "mimetype": "application/julia",
   "name": "julia",
   "version": "1.8.5"
  }
 },
 "nbformat": 4,
 "nbformat_minor": 5
}
