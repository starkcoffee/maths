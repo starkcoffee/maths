{
 "cells": [
  {
   "cell_type": "markdown",
   "id": "3f22df54",
   "metadata": {},
   "source": [
    "Write a Julia code to approximate $\\int_0^1 e^{x^{2}}dx$ using sample mean Monte Carlo. The\n",
    "code should take N as the input, and return $(g(U_{1})+. . .+g(U_{N}))/N$ as the output,\n",
    "where $g(x) = e^{x^{2}}$ . The $U_{i}$ ’s will be replaced by random numbers in your code.\n",
    "Recall that the function `rand()` generates a random number from the uniform\n",
    "distribution on (0, 1). Run your code with N = 1000 and N = 10, 000. Compare\n",
    "your results with the approximation WolframAlpha gives for the integral."
   ]
  },
  {
   "cell_type": "markdown",
   "id": "0762fbac",
   "metadata": {},
   "source": [
    "From wolphram alpha:\n",
    "$\\int_0^1 e(x^2) dx = 1/2 sqrt(π) erfi(1)≈1.46265$"
   ]
  },
  {
   "cell_type": "code",
   "execution_count": 22,
   "id": "07a793c7",
   "metadata": {},
   "outputs": [
    {
     "data": {
      "text/plain": [
       "sample_mean_monte_carlo (generic function with 1 method)"
      ]
     },
     "execution_count": 22,
     "metadata": {},
     "output_type": "execute_result"
    }
   ],
   "source": [
    "function sample_mean_monte_carlo(n)\n",
    "    xs = rand(n)\n",
    "    gxs = exp.(xs.^2)\n",
    "    return sum(gxs) / n\n",
    "end"
   ]
  },
  {
   "cell_type": "code",
   "execution_count": 24,
   "id": "4383a080",
   "metadata": {},
   "outputs": [
    {
     "data": {
      "text/plain": [
       "1.4594119983642626"
      ]
     },
     "execution_count": 24,
     "metadata": {},
     "output_type": "execute_result"
    }
   ],
   "source": [
    "sample_mean_monte_carlo(1000)"
   ]
  },
  {
   "cell_type": "code",
   "execution_count": 25,
   "id": "7f30ce85",
   "metadata": {},
   "outputs": [
    {
     "data": {
      "text/plain": [
       "1.4629263045173104"
      ]
     },
     "execution_count": 25,
     "metadata": {},
     "output_type": "execute_result"
    }
   ],
   "source": [
    "sample_mean_monte_carlo(10000)"
   ]
  },
  {
   "cell_type": "markdown",
   "id": "7e72314a",
   "metadata": {},
   "source": [
    "Write a Julia code to estimate $\\int_0^1\\int_0^1 e^{(x+y)} dxdy$ "
   ]
  },
  {
   "cell_type": "markdown",
   "id": "5bdc87f2",
   "metadata": {},
   "source": [
    "From wolphram alpha \n",
    "$\\int_0^1\\int_0^1 e^{(x+y)} dxdy= (e-1)^2≈2.9525 $"
   ]
  },
  {
   "cell_type": "code",
   "execution_count": 35,
   "id": "e3aeac73",
   "metadata": {},
   "outputs": [
    {
     "data": {
      "text/plain": [
       "sample_mean_monte_carlo_2d (generic function with 1 method)"
      ]
     },
     "execution_count": 35,
     "metadata": {},
     "output_type": "execute_result"
    }
   ],
   "source": [
    "function sample_mean_monte_carlo_2d(n)\n",
    "    xs = rand(n, 2)\n",
    "    sum_xs = xs[:,1] + xs[:,2]\n",
    "    gxs = exp.(sum_xs)\n",
    "    return sum(gxs) / n\n",
    "end"
   ]
  },
  {
   "cell_type": "code",
   "execution_count": 36,
   "id": "d814c9ca",
   "metadata": {},
   "outputs": [
    {
     "data": {
      "text/plain": [
       "2.932696922873781"
      ]
     },
     "execution_count": 36,
     "metadata": {},
     "output_type": "execute_result"
    }
   ],
   "source": [
    "sample_mean_monte_carlo_2d(1000)"
   ]
  },
  {
   "cell_type": "code",
   "execution_count": 40,
   "id": "edd936fb",
   "metadata": {},
   "outputs": [
    {
     "data": {
      "text/plain": [
       "2.9645060809892296"
      ]
     },
     "execution_count": 40,
     "metadata": {},
     "output_type": "execute_result"
    }
   ],
   "source": [
    "sample_mean_monte_carlo_2d(10000)"
   ]
  },
  {
   "cell_type": "code",
   "execution_count": 41,
   "id": "75591502",
   "metadata": {},
   "outputs": [
    {
     "data": {
      "text/plain": [
       "2.9519854734418947"
      ]
     },
     "execution_count": 41,
     "metadata": {},
     "output_type": "execute_result"
    }
   ],
   "source": [
    "sample_mean_monte_carlo_2d(100000)"
   ]
  },
  {
   "cell_type": "code",
   "execution_count": null,
   "id": "79961245",
   "metadata": {},
   "outputs": [],
   "source": []
  }
 ],
 "metadata": {
  "kernelspec": {
   "display_name": "Julia 1.8.5",
   "language": "julia",
   "name": "julia-1.8"
  },
  "language_info": {
   "file_extension": ".jl",
   "mimetype": "application/julia",
   "name": "julia",
   "version": "1.8.5"
  }
 },
 "nbformat": 4,
 "nbformat_minor": 5
}
