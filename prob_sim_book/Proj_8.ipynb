{
 "cells": [
  {
   "cell_type": "markdown",
   "id": "a1ea9355",
   "metadata": {},
   "source": [
    "Write a Julia code to approximate $\\int_0^1 e^{x^{2}}dx$ using sample mean Monte Carlo. The\n",
    "code should take N as the input, and return $(g(U_{1})+. . .+g(U_{N}))/N$ as the output,\n",
    "where $g(x) = e^{x^{2}}$ . The $U_{i}$ ’s will be replaced by random numbers in your code.\n",
    "Recall that the function `rand()` generates a random number from the uniform\n",
    "distribution on (0, 1). Run your code with N = 1000 and N = 10, 000. Compare\n",
    "your results with the approximation WolframAlpha gives for the integral."
   ]
  },
  {
   "cell_type": "markdown",
   "id": "7e98e9bd",
   "metadata": {},
   "source": [
    "\n",
    "$\\int_0^1 e(x^2) dx = 1/2 sqrt(π) erfi(1)≈1.46265$"
   ]
  },
  {
   "cell_type": "code",
   "execution_count": 22,
   "id": "4b13e7b7",
   "metadata": {},
   "outputs": [
    {
     "data": {
      "text/plain": [
       "sample_mean_monte_carlo (generic function with 1 method)"
      ]
     },
     "execution_count": 22,
     "metadata": {},
     "output_type": "execute_result"
    }
   ],
   "source": [
    "function sample_mean_monte_carlo(n)\n",
    "    xs = rand(n)\n",
    "    gxs = exp.(xs.^2)\n",
    "    return sum(gxs) / n\n",
    "end"
   ]
  },
  {
   "cell_type": "code",
   "execution_count": 24,
   "id": "db00d871",
   "metadata": {},
   "outputs": [
    {
     "data": {
      "text/plain": [
       "1.4594119983642626"
      ]
     },
     "execution_count": 24,
     "metadata": {},
     "output_type": "execute_result"
    }
   ],
   "source": [
    "sample_mean_monte_carlo(1000)"
   ]
  },
  {
   "cell_type": "code",
   "execution_count": 25,
   "id": "64e0d18d",
   "metadata": {},
   "outputs": [
    {
     "data": {
      "text/plain": [
       "1.4629263045173104"
      ]
     },
     "execution_count": 25,
     "metadata": {},
     "output_type": "execute_result"
    }
   ],
   "source": [
    "sample_mean_monte_carlo(10000)"
   ]
  }
 ],
 "metadata": {
  "kernelspec": {
   "display_name": "Julia 1.8.5",
   "language": "julia",
   "name": "julia-1.8"
  },
  "language_info": {
   "file_extension": ".jl",
   "mimetype": "application/julia",
   "name": "julia",
   "version": "1.8.5"
  }
 },
 "nbformat": 4,
 "nbformat_minor": 5
}
