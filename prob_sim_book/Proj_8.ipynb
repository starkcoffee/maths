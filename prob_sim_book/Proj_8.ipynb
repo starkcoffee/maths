{
 "cells": [
  {
   "cell_type": "markdown",
   "id": "8e36a5af",
   "metadata": {},
   "source": [
    "Write a Julia code to approximate $\\int_0^1 e^{x^{2}}dx$ using sample mean Monte Carlo. The\n",
    "code should take N as the input, and return $(g(U_{1})+. . .+g(U_{N}))/N$ as the output,\n",
    "where $g(x) = e^{x^{2}}$ . The $U_{i}$ ’s will be replaced by random numbers in your code.\n",
    "Recall that the function `rand()` generates a random number from the uniform\n",
    "distribution on (0, 1). Run your code with N = 1000 and N = 10, 000. Compare\n",
    "your results with the approximation WolframAlpha gives for the integral."
   ]
  },
  {
   "cell_type": "markdown",
   "id": "9f648ce1",
   "metadata": {},
   "source": [
    "From wolphram alpha:\n",
    "$\\int_0^1 e(x^2) dx = 1/2 sqrt(π) erfi(1)≈1.46265$"
   ]
  },
  {
   "cell_type": "code",
   "execution_count": 19,
   "id": "89b6b11c",
   "metadata": {},
   "outputs": [
    {
     "data": {
      "text/plain": [
       "sample_mean_monte_carlo (generic function with 1 method)"
      ]
     },
     "execution_count": 19,
     "metadata": {},
     "output_type": "execute_result"
    }
   ],
   "source": [
    "function sample_mean_monte_carlo(n)\n",
    "    xs = rand(n)\n",
    "    gxs = exp.(xs.^2)\n",
    "    return sum(gxs) / n\n",
    "end"
   ]
  },
  {
   "cell_type": "code",
   "execution_count": 20,
   "id": "67217376",
   "metadata": {},
   "outputs": [
    {
     "data": {
      "text/plain": [
       "1.4582490384629458"
      ]
     },
     "execution_count": 20,
     "metadata": {},
     "output_type": "execute_result"
    }
   ],
   "source": [
    "sample_mean_monte_carlo(1000)"
   ]
  },
  {
   "cell_type": "code",
   "execution_count": 21,
   "id": "08b9bc84",
   "metadata": {},
   "outputs": [
    {
     "data": {
      "text/plain": [
       "1.4616697815951403"
      ]
     },
     "execution_count": 21,
     "metadata": {},
     "output_type": "execute_result"
    }
   ],
   "source": [
    "sample_mean_monte_carlo(10000)"
   ]
  },
  {
   "cell_type": "markdown",
   "id": "02d21933",
   "metadata": {},
   "source": [
    "Write a Julia code to estimate $\\int_0^1\\int_0^1 e^{(x+y)} dxdy$ "
   ]
  },
  {
   "cell_type": "markdown",
   "id": "a7b841f5",
   "metadata": {},
   "source": [
    "From wolphram alpha \n",
    "$\\int_0^1\\int_0^1 e^{(x+y)} dxdy= (e-1)^2≈2.9525 $"
   ]
  },
  {
   "cell_type": "code",
   "execution_count": 22,
   "id": "1cbcba55",
   "metadata": {},
   "outputs": [
    {
     "data": {
      "text/plain": [
       "sample_mean_monte_carlo_2d (generic function with 1 method)"
      ]
     },
     "execution_count": 22,
     "metadata": {},
     "output_type": "execute_result"
    }
   ],
   "source": [
    "function sample_mean_monte_carlo_2d(n)\n",
    "    xs = rand(n, 2)\n",
    "    sum_xs = xs[:,1] + xs[:,2]\n",
    "    gxs = exp.(sum_xs)\n",
    "    return sum(gxs) / n\n",
    "end"
   ]
  },
  {
   "cell_type": "code",
   "execution_count": 23,
   "id": "e753a833",
   "metadata": {},
   "outputs": [
    {
     "data": {
      "text/plain": [
       "3.0146637475161078"
      ]
     },
     "execution_count": 23,
     "metadata": {},
     "output_type": "execute_result"
    }
   ],
   "source": [
    "sample_mean_monte_carlo_2d(1000)"
   ]
  },
  {
   "cell_type": "code",
   "execution_count": 24,
   "id": "830e7fed",
   "metadata": {},
   "outputs": [
    {
     "data": {
      "text/plain": [
       "2.9449150705427174"
      ]
     },
     "execution_count": 24,
     "metadata": {},
     "output_type": "execute_result"
    }
   ],
   "source": [
    "sample_mean_monte_carlo_2d(10000)"
   ]
  },
  {
   "cell_type": "code",
   "execution_count": 25,
   "id": "7c0d7d40",
   "metadata": {},
   "outputs": [
    {
     "data": {
      "text/plain": [
       "2.951551560961006"
      ]
     },
     "execution_count": 25,
     "metadata": {},
     "output_type": "execute_result"
    }
   ],
   "source": [
    "sample_mean_monte_carlo_2d(100000)"
   ]
  },
  {
   "cell_type": "code",
   "execution_count": 26,
   "id": "a83c25bd",
   "metadata": {
    "scrolled": true
   },
   "outputs": [
    {
     "data": {
      "text/plain": [
       "g (generic function with 1 method)"
      ]
     },
     "execution_count": 26,
     "metadata": {},
     "output_type": "execute_result"
    }
   ],
   "source": [
    "# Jarrod's code\n",
    "using Statistics\n",
    "\n",
    "# hit-or-miss function\n",
    "X(g, (x, y)) = y < g(x) ? 1 : 0\n",
    "\n",
    "trial1(g) = X(g, (rand(), rand()))\n",
    "\n",
    "# sample of function\n",
    "trial2(g) = g(rand())\n",
    "\n",
    "# a simulation returns n samples of the random variable defined by trial\n",
    "simulation(g, trial, n) = map(_ -> trial(g), 1:n)\n",
    "\n",
    "\n",
    "function experiment(g, trial, n, m)\n",
    "    \n",
    "    # create m sets of n samples\n",
    "    data = map(_ -> simulation(g, trial, n), 1:m)\n",
    "\n",
    "    # concatenate the sets of samples into one big set\n",
    "    # take the mean value\n",
    "    mean(vcat(data...)), mean.(data) |> std\n",
    "end\n",
    "\n",
    "function display((m, s))\n",
    "    println(m)\n",
    "    println(s)\n",
    "    println()\n",
    "end\n",
    "\n",
    "g(x) = x^2"
   ]
  },
  {
   "cell_type": "code",
   "execution_count": 27,
   "id": "cb8cd92c",
   "metadata": {},
   "outputs": [
    {
     "data": {
      "text/plain": [
       "0"
      ]
     },
     "execution_count": 27,
     "metadata": {},
     "output_type": "execute_result"
    }
   ],
   "source": [
    "# expect output of 0 because 0.5 is not less than 0.25\n",
    "X(g, (0.5,0.5))"
   ]
  },
  {
   "cell_type": "code",
   "execution_count": 28,
   "id": "6fc28dde",
   "metadata": {},
   "outputs": [
    {
     "data": {
      "text/plain": [
       "10-element Vector{Int64}:\n",
       " 0\n",
       " 1\n",
       " 0\n",
       " 0\n",
       " 0\n",
       " 1\n",
       " 0\n",
       " 0\n",
       " 0\n",
       " 1"
      ]
     },
     "execution_count": 28,
     "metadata": {},
     "output_type": "execute_result"
    }
   ],
   "source": [
    "simulation(g, trial1, 10)"
   ]
  },
  {
   "cell_type": "code",
   "execution_count": 30,
   "id": "17b1588d",
   "metadata": {},
   "outputs": [
    {
     "data": {
      "text/plain": [
       "3-element Vector{Vector{Int64}}:\n",
       " [0, 0, 1, 1, 0, 0, 1, 0, 0, 0]\n",
       " [0, 0, 0, 0, 1, 0, 0, 0, 0, 0]\n",
       " [0, 0, 0, 0, 0, 1, 0, 1, 1, 1]"
      ]
     },
     "execution_count": 30,
     "metadata": {},
     "output_type": "execute_result"
    }
   ],
   "source": [
    "data = map(_ -> simulation(g, trial1, 10), 1:3)\n",
    "data"
   ]
  },
  {
   "cell_type": "code",
   "execution_count": 37,
   "id": "8bfa1c15",
   "metadata": {},
   "outputs": [
    {
     "data": {
      "text/plain": [
       "3-element Vector{Float64}:\n",
       " 0.3\n",
       " 0.1\n",
       " 0.4"
      ]
     },
     "execution_count": 37,
     "metadata": {},
     "output_type": "execute_result"
    }
   ],
   "source": [
    "sample_means = mean.(data)"
   ]
  },
  {
   "cell_type": "code",
   "execution_count": 38,
   "id": "f61e04f0",
   "metadata": {},
   "outputs": [
    {
     "data": {
      "text/plain": [
       "0.26666666666666666"
      ]
     },
     "execution_count": 38,
     "metadata": {},
     "output_type": "execute_result"
    }
   ],
   "source": [
    "avg_sample_mean = mean(vcat(data...))"
   ]
  },
  {
   "cell_type": "code",
   "execution_count": 41,
   "id": "3ec940d7",
   "metadata": {},
   "outputs": [
    {
     "data": {
      "text/plain": [
       "0.1527525231651947"
      ]
     },
     "execution_count": 41,
     "metadata": {},
     "output_type": "execute_result"
    }
   ],
   "source": [
    "std(sample_means)"
   ]
  },
  {
   "cell_type": "code",
   "execution_count": 40,
   "id": "032c6ba0",
   "metadata": {},
   "outputs": [
    {
     "name": "stdout",
     "output_type": "stream",
     "text": [
      "0.3268\n",
      "0.0173063893146754\n",
      "\n",
      "0.3288817948166072\n",
      "0.009480346753940829\n",
      "\n"
     ]
    }
   ],
   "source": [
    "(hit_miss, sample_mean) = (t -> experiment(g, t, 1000, 10)).([trial1, trial2])\n",
    "\n",
    "display(hit_miss)\n",
    "display(sample_mean)"
   ]
  },
  {
   "cell_type": "code",
   "execution_count": null,
   "id": "1f46b584",
   "metadata": {},
   "outputs": [],
   "source": []
  }
 ],
 "metadata": {
  "kernelspec": {
   "display_name": "Julia 1.8.5",
   "language": "julia",
   "name": "julia-1.8"
  },
  "language_info": {
   "file_extension": ".jl",
   "mimetype": "application/julia",
   "name": "julia",
   "version": "1.8.5"
  }
 },
 "nbformat": 4,
 "nbformat_minor": 5
}
