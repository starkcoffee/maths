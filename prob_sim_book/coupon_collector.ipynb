{
 "cells": [
  {
   "cell_type": "markdown",
   "id": "60ce0102",
   "metadata": {},
   "source": [
    "## Goal: Simulate the coupon collector's problem\n",
    "\n",
    "Coupon Collectors Problem states:\n",
    "\n",
    "Imagine you buy cereal boxes and every cereal box contains a coupon. There are n types of coupons. The coupon in each cereal box is chosen at random uniformly from these n possibilities. Let's label the coupons as c1, c2, ..., c_n. How many boxes of cereal must one buy, on average, "
   ]
  },
  {
   "cell_type": "code",
   "execution_count": 1,
   "id": "59db18fa",
   "metadata": {},
   "outputs": [
    {
     "data": {
      "text/plain": [
       "6"
      ]
     },
     "execution_count": 1,
     "metadata": {},
     "output_type": "execute_result"
    }
   ],
   "source": [
    "num_coupons = 6"
   ]
  },
  {
   "cell_type": "code",
   "execution_count": null,
   "id": "0e00448a",
   "metadata": {},
   "outputs": [],
   "source": []
  }
 ],
 "metadata": {
  "kernelspec": {
   "display_name": "Julia 1.8.5",
   "language": "julia",
   "name": "julia-1.8"
  },
  "language_info": {
   "file_extension": ".jl",
   "mimetype": "application/julia",
   "name": "julia",
   "version": "1.8.5"
  }
 },
 "nbformat": 4,
 "nbformat_minor": 5
}
