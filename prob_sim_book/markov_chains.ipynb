{
 "cells": [
  {
   "cell_type": "markdown",
   "id": "0493575d",
   "metadata": {},
   "source": [
    "![state diagram](state_diagram.png)"
   ]
  },
  {
   "cell_type": "markdown",
   "id": "0716d8bb",
   "metadata": {},
   "source": [
    "aha moments: \n",
    "- the matrix multiplication is the iteration through all possible paths\n",
    "- that once we get to the converged matrix, doesn't matter what the starting vector is\n",
    "- the invariant a+b = 1 as we multiply"
   ]
  },
  {
   "cell_type": "code",
   "execution_count": 37,
   "id": "d711891f",
   "metadata": {},
   "outputs": [],
   "source": [
    "using LinearAlgebra"
   ]
  },
  {
   "cell_type": "code",
   "execution_count": 77,
   "id": "8b5818a9",
   "metadata": {},
   "outputs": [
    {
     "data": {
      "text/plain": [
       "2×2 Matrix{Float64}:\n",
       " 0.8  0.2\n",
       " 0.4  0.6"
      ]
     },
     "execution_count": 77,
     "metadata": {},
     "output_type": "execute_result"
    }
   ],
   "source": [
    "P=[0.8 0.2; 0.4 0.6]"
   ]
  },
  {
   "cell_type": "code",
   "execution_count": 78,
   "id": "66c68ba6",
   "metadata": {},
   "outputs": [
    {
     "data": {
      "text/plain": [
       "2×2 Matrix{Float64}:\n",
       " 0.72  0.28\n",
       " 0.56  0.44"
      ]
     },
     "execution_count": 78,
     "metadata": {},
     "output_type": "execute_result"
    }
   ],
   "source": [
    "P^2"
   ]
  },
  {
   "cell_type": "code",
   "execution_count": 79,
   "id": "1e108c47",
   "metadata": {},
   "outputs": [
    {
     "data": {
      "text/plain": [
       "2×2 Matrix{Float64}:\n",
       " 0.666702  0.333298\n",
       " 0.666597  0.333403"
      ]
     },
     "execution_count": 79,
     "metadata": {},
     "output_type": "execute_result"
    }
   ],
   "source": [
    "P^10"
   ]
  },
  {
   "cell_type": "code",
   "execution_count": 34,
   "id": "0660cac2",
   "metadata": {},
   "outputs": [
    {
     "data": {
      "text/plain": [
       "2×2 Matrix{Float64}:\n",
       " 0.666667  0.333333\n",
       " 0.666667  0.333333"
      ]
     },
     "execution_count": 34,
     "metadata": {},
     "output_type": "execute_result"
    }
   ],
   "source": [
    "P^100"
   ]
  },
  {
   "cell_type": "code",
   "execution_count": 2,
   "id": "273a4230",
   "metadata": {},
   "outputs": [
    {
     "data": {
      "text/plain": [
       "2×2 Matrix{Float64}:\n",
       " 0.6  0.4\n",
       " 0.3  0.7"
      ]
     },
     "execution_count": 2,
     "metadata": {},
     "output_type": "execute_result"
    }
   ],
   "source": [
    "Q = [0.6 0.4; 0.3 0.7]"
   ]
  },
  {
   "cell_type": "code",
   "execution_count": 3,
   "id": "9e97eda8",
   "metadata": {},
   "outputs": [
    {
     "data": {
      "text/plain": [
       "2×2 Matrix{Float64}:\n",
       " 0.428571  0.571429\n",
       " 0.428571  0.571429"
      ]
     },
     "execution_count": 3,
     "metadata": {},
     "output_type": "execute_result"
    }
   ],
   "source": [
    "Q^100"
   ]
  },
  {
   "cell_type": "code",
   "execution_count": 38,
   "id": "dbe46f20",
   "metadata": {},
   "outputs": [
    {
     "data": {
      "text/plain": [
       "2-element Vector{Float64}:\n",
       " 0.4\n",
       " 1.0"
      ]
     },
     "execution_count": 38,
     "metadata": {},
     "output_type": "execute_result"
    }
   ],
   "source": [
    "eigvals(P)"
   ]
  },
  {
   "cell_type": "code",
   "execution_count": 39,
   "id": "475b14aa",
   "metadata": {},
   "outputs": [
    {
     "data": {
      "text/plain": [
       "2×2 Matrix{Float64}:\n",
       " -0.447214  0.707107\n",
       "  0.894427  0.707107"
      ]
     },
     "execution_count": 39,
     "metadata": {},
     "output_type": "execute_result"
    }
   ],
   "source": [
    "eigvecs(P)"
   ]
  },
  {
   "cell_type": "code",
   "execution_count": 26,
   "id": "ab2603ba",
   "metadata": {},
   "outputs": [
    {
     "data": {
      "text/plain": [
       "2×2 Matrix{Float64}:\n",
       " 0.4375  0.5625\n",
       " 0.4375  0.5625"
      ]
     },
     "execution_count": 26,
     "metadata": {},
     "output_type": "execute_result"
    }
   ],
   "source": [
    "[0.1 0.9; 0.7 0.3]^100"
   ]
  },
  {
   "cell_type": "code",
   "execution_count": 40,
   "id": "fee7bb4c",
   "metadata": {},
   "outputs": [
    {
     "data": {
      "text/plain": [
       "0.7200000000000002"
      ]
     },
     "execution_count": 40,
     "metadata": {},
     "output_type": "execute_result"
    }
   ],
   "source": [
    "0.8*0.8 + 0.2*0.4"
   ]
  },
  {
   "cell_type": "code",
   "execution_count": 45,
   "id": "3c86e2ca",
   "metadata": {},
   "outputs": [
    {
     "data": {
      "text/plain": [
       "0.28"
      ]
     },
     "execution_count": 45,
     "metadata": {},
     "output_type": "execute_result"
    }
   ],
   "source": [
    "0.8*0.2 + 0.2*0.6"
   ]
  },
  {
   "cell_type": "code",
   "execution_count": 47,
   "id": "15dab5fd",
   "metadata": {},
   "outputs": [
    {
     "data": {
      "text/plain": [
       "0.688"
      ]
     },
     "execution_count": 47,
     "metadata": {},
     "output_type": "execute_result"
    }
   ],
   "source": [
    "0.72*0.8 + 0.28*0.4"
   ]
  },
  {
   "cell_type": "code",
   "execution_count": 48,
   "id": "cb56a942",
   "metadata": {},
   "outputs": [
    {
     "data": {
      "text/plain": [
       "0.6752"
      ]
     },
     "execution_count": 48,
     "metadata": {},
     "output_type": "execute_result"
    }
   ],
   "source": [
    "0.688*0.8 + 0.312*0.4"
   ]
  },
  {
   "cell_type": "code",
   "execution_count": 49,
   "id": "1a986733",
   "metadata": {},
   "outputs": [
    {
     "data": {
      "text/plain": [
       "2×2 Matrix{Float64}:\n",
       " 0.8  0.2\n",
       " 0.4  0.6"
      ]
     },
     "execution_count": 49,
     "metadata": {},
     "output_type": "execute_result"
    }
   ],
   "source": [
    "P"
   ]
  },
  {
   "cell_type": "code",
   "execution_count": 50,
   "id": "8090d4a4",
   "metadata": {},
   "outputs": [
    {
     "data": {
      "text/plain": [
       "2×2 Matrix{Float64}:\n",
       " -0.447214  0.707107\n",
       "  0.894427  0.707107"
      ]
     },
     "execution_count": 50,
     "metadata": {},
     "output_type": "execute_result"
    }
   ],
   "source": [
    "eigvecs(P)"
   ]
  },
  {
   "cell_type": "code",
   "execution_count": 51,
   "id": "19043f98",
   "metadata": {},
   "outputs": [
    {
     "data": {
      "text/plain": [
       "2-element Vector{Int64}:\n",
       " 1\n",
       " 1"
      ]
     },
     "execution_count": 51,
     "metadata": {},
     "output_type": "execute_result"
    }
   ],
   "source": [
    "a = [1;1]"
   ]
  },
  {
   "cell_type": "code",
   "execution_count": 55,
   "id": "cccc2019",
   "metadata": {},
   "outputs": [
    {
     "data": {
      "text/plain": [
       "2-element Vector{Float64}:\n",
       " -0.1788858\n",
       "  0.35777059999999994"
      ]
     },
     "execution_count": 55,
     "metadata": {},
     "output_type": "execute_result"
    }
   ],
   "source": [
    "P*[-0.447214; 0.894427]"
   ]
  },
  {
   "cell_type": "code",
   "execution_count": 56,
   "id": "6fbd56d2",
   "metadata": {},
   "outputs": [
    {
     "data": {
      "text/plain": [
       "2.499997204920681"
      ]
     },
     "execution_count": 56,
     "metadata": {},
     "output_type": "execute_result"
    }
   ],
   "source": [
    "-0.447214/-0.1788858"
   ]
  },
  {
   "cell_type": "code",
   "execution_count": 57,
   "id": "0647e5de",
   "metadata": {},
   "outputs": [
    {
     "data": {
      "text/plain": [
       "2.5000013975435658"
      ]
     },
     "execution_count": 57,
     "metadata": {},
     "output_type": "execute_result"
    }
   ],
   "source": [
    "0.894427 / 0.35777059999999994"
   ]
  },
  {
   "cell_type": "code",
   "execution_count": 58,
   "id": "7c059616",
   "metadata": {},
   "outputs": [
    {
     "data": {
      "text/plain": [
       "2×2 adjoint(::Matrix{Float64}) with eltype Float64:\n",
       " 0.8  0.4\n",
       " 0.2  0.6"
      ]
     },
     "execution_count": 58,
     "metadata": {},
     "output_type": "execute_result"
    }
   ],
   "source": [
    "P'"
   ]
  },
  {
   "cell_type": "code",
   "execution_count": 60,
   "id": "d6d9a240",
   "metadata": {},
   "outputs": [
    {
     "data": {
      "text/plain": [
       "2-element Vector{Float64}:\n",
       " 0.4\n",
       " 1.0"
      ]
     },
     "execution_count": 60,
     "metadata": {},
     "output_type": "execute_result"
    }
   ],
   "source": [
    "eigvals(P')"
   ]
  },
  {
   "cell_type": "code",
   "execution_count": 61,
   "id": "849fc1e2",
   "metadata": {},
   "outputs": [
    {
     "data": {
      "text/plain": [
       "2×2 Matrix{Float64}:\n",
       " -0.707107  0.894427\n",
       "  0.707107  0.447214"
      ]
     },
     "execution_count": 61,
     "metadata": {},
     "output_type": "execute_result"
    }
   ],
   "source": [
    "eigvecs(P')"
   ]
  },
  {
   "cell_type": "code",
   "execution_count": 98,
   "id": "4d9d8b21",
   "metadata": {},
   "outputs": [
    {
     "data": {
      "text/plain": [
       "(0.8, 0.2, 0.4, 0.6)"
      ]
     },
     "execution_count": 98,
     "metadata": {},
     "output_type": "execute_result"
    }
   ],
   "source": [
    "a,b,c,d = 0.8,0.2,0.4,0.6"
   ]
  },
  {
   "cell_type": "markdown",
   "id": "2ee35e24",
   "metadata": {},
   "source": [
    "|a b||a b|\n",
    "|c d||c d|"
   ]
  },
  {
   "cell_type": "code",
   "execution_count": 7,
   "id": "e50b1f78",
   "metadata": {},
   "outputs": [
    {
     "data": {
      "text/plain": [
       "mat_pow (generic function with 1 method)"
      ]
     },
     "execution_count": 7,
     "metadata": {},
     "output_type": "execute_result"
    }
   ],
   "source": [
    "function mat_pow(a,b,c, d, n)\n",
    "    p = a\n",
    "    q = b\n",
    "\n",
    "    i = 0\n",
    "    while (i < n)\n",
    "        p_next = p*a + q*c\n",
    "        q_next = p*b + q*d\n",
    "\n",
    "        p = p_next\n",
    "        q = q_next\n",
    "        i+=1\n",
    "    end\n",
    "\n",
    "    (p,q) \n",
    "end"
   ]
  },
  {
   "cell_type": "code",
   "execution_count": 9,
   "id": "134e8427",
   "metadata": {},
   "outputs": [
    {
     "data": {
      "text/plain": [
       "(0.7200000000000002, 0.28)"
      ]
     },
     "execution_count": 9,
     "metadata": {},
     "output_type": "execute_result"
    }
   ],
   "source": [
    "mat_pow(0.8, 0.2, 0.4, 0.6, 1.0)"
   ]
  },
  {
   "cell_type": "code",
   "execution_count": 10,
   "id": "dace4efb",
   "metadata": {},
   "outputs": [
    {
     "data": {
      "text/plain": [
       "(0.6880000000000002, 0.31200000000000006)"
      ]
     },
     "execution_count": 10,
     "metadata": {},
     "output_type": "execute_result"
    }
   ],
   "source": [
    "mat_pow(0.8, 0.2, 0.4, 0.6, 2.0)"
   ]
  },
  {
   "cell_type": "code",
   "execution_count": 100,
   "id": "9f52618a",
   "metadata": {
    "scrolled": true
   },
   "outputs": [
    {
     "data": {
      "text/plain": [
       "2×2 Matrix{Float64}:\n",
       " 0.666667  0.333333\n",
       " 0.666667  0.333333"
      ]
     },
     "execution_count": 100,
     "metadata": {},
     "output_type": "execute_result"
    }
   ],
   "source": [
    "P^100"
   ]
  },
  {
   "cell_type": "code",
   "execution_count": 89,
   "id": "0bb0a104",
   "metadata": {},
   "outputs": [
    {
     "data": {
      "text/plain": [
       "0.28"
      ]
     },
     "execution_count": 89,
     "metadata": {},
     "output_type": "execute_result"
    }
   ],
   "source": [
    "a*b + b*d"
   ]
  },
  {
   "cell_type": "code",
   "execution_count": 101,
   "id": "28b34e5b",
   "metadata": {},
   "outputs": [
    {
     "data": {
      "text/plain": [
       "5×5 Matrix{Int64}:\n",
       " 16   8   4   4  1\n",
       "  9  -6   4   3  1\n",
       "  4   0   0  -2  1\n",
       " 16  -4   1  -4  1\n",
       "  1  -4  16  -1  1"
      ]
     },
     "execution_count": 101,
     "metadata": {},
     "output_type": "execute_result"
    }
   ],
   "source": [
    "A =[16 8 4 4 1; 9 -6 4 3 1; 4 0 0 -2 1; 16 -4 1 -4 1; 1 -4 16 -1 1]"
   ]
  },
  {
   "cell_type": "code",
   "execution_count": 106,
   "id": "028f1847",
   "metadata": {},
   "outputs": [
    {
     "data": {
      "text/plain": [
       "5-element Vector{Float64}:\n",
       " -0.07482993197278912\n",
       " -0.27891156462585026\n",
       " -0.36054421768707484\n",
       "  0.42857142857142855\n",
       "  1.1564625850340133"
      ]
     },
     "execution_count": 106,
     "metadata": {},
     "output_type": "execute_result"
    }
   ],
   "source": [
    "res = inv(A)*[-2;2;0;-1;-4]"
   ]
  },
  {
   "cell_type": "code",
   "execution_count": 107,
   "id": "c3f59e3f",
   "metadata": {},
   "outputs": [
    {
     "data": {
      "text/plain": [
       "5-element Vector{Float64}:\n",
       " -1.9999999999999993\n",
       "  1.9999999999999991\n",
       " -2.220446049250313e-16\n",
       " -1.0000000000000007\n",
       " -4.000000000000001"
      ]
     },
     "execution_count": 107,
     "metadata": {},
     "output_type": "execute_result"
    }
   ],
   "source": [
    "A*res"
   ]
  },
  {
   "cell_type": "code",
   "execution_count": 109,
   "id": "1bc05821",
   "metadata": {},
   "outputs": [
    {
     "data": {
      "text/plain": [
       "5×5 Matrix{Int64}:\n",
       " 16   8  4   4  1\n",
       "  9  -6  4   3  1\n",
       "  4   0  0  -2  1\n",
       " 16  -4  1  -4  1\n",
       " 25  15  9  -5  1"
      ]
     },
     "execution_count": 109,
     "metadata": {},
     "output_type": "execute_result"
    }
   ],
   "source": [
    "B =[16 8 4 4 1; 9 -6 4 3 1; 4 0 0 -2 1; 16 -4 1 -4 1; 25 15 9 -5 1]9i itnmöy "
   ]
  },
  {
   "cell_type": "code",
   "execution_count": 110,
   "id": "b2a94c2b",
   "metadata": {},
   "outputs": [
    {
     "data": {
      "text/plain": [
       "5-element Vector{Float64}:\n",
       " -0.2698412698412699\n",
       " -0.12698412698412692\n",
       "  1.0634920634920635\n",
       " -0.33333333333333337\n",
       "  0.41269841269841256"
      ]
     },
     "execution_count": 110,
     "metadata": {},
     "output_type": "execute_result"
    }
   ],
   "source": [
    "res2 = inv(B)*[-2;2;0;-1;3]"
   ]
  },
  {
   "cell_type": "code",
   "execution_count": 1,
   "id": "c2ff6c1f",
   "metadata": {},
   "outputs": [
    {
     "data": {
      "text/plain": [
       "0.66666"
      ]
     },
     "execution_count": 1,
     "metadata": {},
     "output_type": "execute_result"
    }
   ],
   "source": [
    "0.66666*0.8 + 0.33333*0.4"
   ]
  },
  {
   "cell_type": "code",
   "execution_count": null,
   "id": "d3c4d2aa",
   "metadata": {},
   "outputs": [],
   "source": []
  }
 ],
 "metadata": {
  "kernelspec": {
   "display_name": "Julia 1.8.5",
   "language": "julia",
   "name": "julia-1.8"
  },
  "language_info": {
   "file_extension": ".jl",
   "mimetype": "application/julia",
   "name": "julia",
   "version": "1.8.5"
  }
 },
 "nbformat": 4,
 "nbformat_minor": 5
}
